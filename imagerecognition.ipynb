{
  "nbformat": 4,
  "nbformat_minor": 0,
  "metadata": {
    "colab": {
      "provenance": [],
      "collapsed_sections": [],
      "mount_file_id": "1ZQbaVRoBn6RES3qMqMQ2LgJdVlLdrfOw",
      "authorship_tag": "ABX9TyNt1PCJG18lq667/6fDXek3",
      "include_colab_link": true
    },
    "kernelspec": {
      "name": "python3",
      "display_name": "Python 3"
    },
    "language_info": {
      "name": "python"
    }
  },
  "cells": [
    {
      "cell_type": "markdown",
      "metadata": {
        "id": "view-in-github",
        "colab_type": "text"
      },
      "source": [
        "<a href=\"https://colab.research.google.com/github/antoniSea/Image-recognition-python-ai/blob/main/imagerecognition.ipynb\" target=\"_parent\"><img src=\"https://colab.research.google.com/assets/colab-badge.svg\" alt=\"Open In Colab\"/></a>"
      ]
    },
    {
      "cell_type": "code",
      "execution_count": null,
      "metadata": {
        "id": "GKqIpYM5CGkC"
      },
      "outputs": [],
      "source": [
        "import tensorflow as tf\n",
        "import numpy as np\n",
        "import cv2 as cv\n",
        "import matplotlib.pyplot as plt"
      ]
    },
    {
      "cell_type": "code",
      "source": [
        "(training_images, training_labels), (testing_images, testing_labels) = tf.keras.datasets.cifar100.load_data()\n",
        "training_images, testing_images = training_images / 255, testing_images / 255"
      ],
      "metadata": {
        "id": "Gm_OaEWIC_nd"
      },
      "execution_count": null,
      "outputs": []
    },
    {
      "cell_type": "code",
      "source": [
        "class_names = ['apple', 'quarium_fish', 'baby', 'bear', 'beaver', 'bed', 'bee', 'beetle', 'bicycle', 'bottle', 'bowl', 'boy', 'bridge', 'bus', 'butterfly', 'camel', 'can',\n",
        "               'castle', 'caterpillar', 'cattle', 'chair', 'chimpanzee', 'clock', 'cloud', 'cockroach', 'couch', 'cra', 'crocodile', 'cup', 'dinosaur', 'dolphin', 'elephant', 'flatfish', 'forest', 'fox', 'girl', 'hamster', 'house', 'kangaroo', 'keyboard', 'lamp', 'lawn_mower', 'leopard', 'lion', 'lizard', 'lobster', 'man', 'maple_tree', 'motorcycle', 'mountain', 'mouse', 'mushroom', 'oak_tree', 'orange', 'orchid', 'otter', 'palm_tree', 'pear', 'pickup_truck', 'pine_tree', 'plain', 'plate', 'poppy', 'porcupine', 'possum', 'rabbit', 'raccoon', 'ray', 'road', 'rocket', 'rose', 'sea', 'seal', 'shark', 'shrew', 'skunk', 'skyscraper', 'snail', 'snake', 'spider', 'squirrel', 'streetcar', 'sunflower', 'sweet_pepper', 'table', 'tank', 'telephone', 'television', 'tiger', 'tractor', 'train', 'trout', 'tulip', 'turtle', 'wardrobe', 'whale', 'willow_tree', 'wolf', 'woman', 'worm']"
      ],
      "metadata": {
        "id": "qfM3pYCmVxXa"
      },
      "execution_count": null,
      "outputs": []
    },
    {
      "cell_type": "code",
      "source": [
        "training_images = training_images\n",
        "training_labels = training_labels\n",
        "\n",
        "print(len(training_images))\n",
        "\n",
        "testing_images = testing_images[:9000]\n",
        "testing_labels = testing_labels[:9000]"
      ],
      "metadata": {
        "id": "X7t9OQ8NWhLY",
        "colab": {
          "base_uri": "https://localhost:8080/"
        },
        "outputId": "2bc6ded0-28f9-4cce-d917-eed4b08657ba"
      },
      "execution_count": null,
      "outputs": [
        {
          "output_type": "stream",
          "name": "stdout",
          "text": [
            "50000\n"
          ]
        }
      ]
    },
    {
      "cell_type": "code",
      "source": [
        "model = tf.keras.models.Sequential()\n",
        "model.add(tf.keras.layers.Conv2D(32, (3, 3), activation='relu', input_shape=(32, 32, 3)))\n",
        "model.add(tf.keras.layers.MaxPooling2D((2,2)))\n",
        "model.add(tf.keras.layers.Conv2D(32, (3, 3), activation='relu'))\n",
        "model.add(tf.keras.layers.MaxPooling2D((2,2)))\n",
        "model.add(tf.keras.layers.Conv2D(64, (3, 3), activation='relu'))\n",
        "model.add(tf.keras.layers.Flatten())\n",
        "model.add(tf.keras.layers.Dense(64, activation='relu'))\n",
        "model.add(tf.keras.layers.Dense(100, activation='softmax'))\n",
        "\n",
        "model.compile(optimizer='adam', loss='sparse_categorical_crossentropy', metrics=['accuracy'])\n",
        "\n",
        "model.fit(training_images, training_labels, epochs=10, validation_data=(testing_images, testing_labels))\n",
        "\n",
        "(loss, accuracy) = model.evaluate(testing_images, testing_labels)\n",
        "print(f\"Loss {loss}\")\n",
        "print(f\"Accuracy: {accuracy}\")\n",
        "\n",
        "!mkdir -p saved_model\n",
        "model.save('saved_model/my_model')"
      ],
      "metadata": {
        "colab": {
          "base_uri": "https://localhost:8080/"
        },
        "id": "4Y7i9OXSb044",
        "outputId": "5d958cc9-3a36-42c2-e98f-bc39c938727d"
      },
      "execution_count": null,
      "outputs": [
        {
          "output_type": "stream",
          "name": "stdout",
          "text": [
            "Epoch 1/10\n",
            "1563/1563 [==============================] - 51s 32ms/step - loss: 4.0094 - accuracy: 0.0844 - val_loss: 3.6350 - val_accuracy: 0.1469\n",
            "Epoch 2/10\n",
            "1563/1563 [==============================] - 51s 32ms/step - loss: 3.3934 - accuracy: 0.1838 - val_loss: 3.2691 - val_accuracy: 0.2127\n",
            "Epoch 3/10\n",
            "1563/1563 [==============================] - 51s 33ms/step - loss: 3.1062 - accuracy: 0.2392 - val_loss: 3.0317 - val_accuracy: 0.2562\n",
            "Epoch 4/10\n",
            "1563/1563 [==============================] - 49s 32ms/step - loss: 2.9189 - accuracy: 0.2760 - val_loss: 2.9043 - val_accuracy: 0.2798\n",
            "Epoch 5/10\n",
            "1563/1563 [==============================] - 49s 32ms/step - loss: 2.7952 - accuracy: 0.2995 - val_loss: 2.8430 - val_accuracy: 0.2936\n",
            "Epoch 6/10\n",
            "1563/1563 [==============================] - 51s 32ms/step - loss: 2.6971 - accuracy: 0.3219 - val_loss: 2.8032 - val_accuracy: 0.3049\n",
            "Epoch 7/10\n",
            "1563/1563 [==============================] - 50s 32ms/step - loss: 2.6142 - accuracy: 0.3380 - val_loss: 2.7320 - val_accuracy: 0.3206\n",
            "Epoch 8/10\n",
            "1563/1563 [==============================] - 49s 32ms/step - loss: 2.5464 - accuracy: 0.3497 - val_loss: 2.6849 - val_accuracy: 0.3260\n",
            "Epoch 9/10\n",
            "1563/1563 [==============================] - 50s 32ms/step - loss: 2.4908 - accuracy: 0.3609 - val_loss: 2.6472 - val_accuracy: 0.3376\n",
            "Epoch 10/10\n",
            "1563/1563 [==============================] - 49s 32ms/step - loss: 2.4446 - accuracy: 0.3711 - val_loss: 2.6811 - val_accuracy: 0.3290\n",
            "282/282 [==============================] - 3s 10ms/step - loss: 2.6811 - accuracy: 0.3290\n",
            "Loss 2.681079387664795\n",
            "Accuracy: 0.32899999618530273\n"
          ]
        },
        {
          "output_type": "stream",
          "name": "stderr",
          "text": [
            "WARNING:absl:Found untraced functions such as _jit_compiled_convolution_op, _jit_compiled_convolution_op, _jit_compiled_convolution_op while saving (showing 3 of 3). These functions will not be directly callable after loading.\n"
          ]
        }
      ]
    },
    {
      "cell_type": "code",
      "source": [
        "img = cv.imread('bee.jpg')\n",
        "img = cv.cvtColor(img, cv.COLOR_BGR2RGB)\n",
        "\n",
        "h = 32\n",
        "w = 32\n",
        "\n",
        "center = img.shape\n",
        "x = center[1]/2 - h/2\n",
        "y = center[0]/2 - w/2\n",
        "img = img[int(y):int(y+center[1]), int(x):int(x+w)]\n",
        "\n",
        "prediction = model.predict(np.array([img]) / 255)\n",
        "print(prediction)\n",
        "print(np.argmax(prediction))\n",
        "print(class_names[np.argmax(prediction)])\n"
      ],
      "metadata": {
        "colab": {
          "base_uri": "https://localhost:8080/"
        },
        "id": "MEhFzM9YjN3W",
        "outputId": "c06319f1-f180-46bd-c018-cbe14621a405"
      },
      "execution_count": null,
      "outputs": [
        {
          "output_type": "stream",
          "name": "stdout",
          "text": [
            "1/1 [==============================] - 0s 73ms/step\n",
            "[[2.1447129e-06 1.4231326e-03 3.9617586e-05 1.2253600e-03 1.0002700e-02\n",
            "  1.9780240e-05 5.3728855e-01 4.5876722e-03 1.0138629e-04 9.2977156e-05\n",
            "  4.8223770e-05 4.6197612e-05 1.0618638e-04 4.7162452e-05 2.9629779e-01\n",
            "  1.0542020e-03 3.2617827e-05 7.2880571e-06 5.3314823e-03 4.0513063e-03\n",
            "  1.1928259e-06 1.3788909e-05 3.3770304e-04 5.9066963e-07 7.4159529e-05\n",
            "  1.9283374e-05 1.3780694e-03 1.9223965e-03 3.0684789e-06 1.5933815e-03\n",
            "  1.1467276e-05 1.0920635e-03 2.3351304e-04 8.0739061e-04 1.0138480e-02\n",
            "  1.0228893e-04 7.4705295e-04 1.3162176e-03 3.0802845e-03 7.5377386e-05\n",
            "  3.1600506e-05 6.6586416e-03 1.7541896e-03 4.2962483e-03 1.1795096e-03\n",
            "  6.3532600e-03 1.7103930e-05 1.9373595e-04 3.1104770e-05 1.7116763e-06\n",
            "  5.9045679e-03 5.6567555e-04 3.6150879e-05 4.2065931e-05 2.8362003e-04\n",
            "  3.0707887e-03 1.1936647e-03 4.1615163e-04 3.4863990e-06 8.0065671e-05\n",
            "  2.3725254e-06 1.8401026e-05 1.1330928e-04 4.8972815e-03 1.6547851e-03\n",
            "  9.8016695e-04 6.4996479e-04 2.5791483e-04 3.9882906e-07 2.0730680e-05\n",
            "  4.5559139e-04 7.6937926e-07 8.2999631e-04 1.1736109e-04 6.9797975e-03\n",
            "  2.4409106e-04 7.2980345e-07 7.4357432e-03 5.9337895e-03 3.5680439e-03\n",
            "  6.3095116e-03 2.9167761e-03 7.4812060e-04 5.7862152e-04 6.3344691e-04\n",
            "  3.4948512e-06 7.5039743e-06 6.5440904e-06 3.0585004e-02 9.1413374e-04\n",
            "  2.5511117e-04 6.5008127e-05 6.0459111e-05 5.2263034e-03 1.3834416e-07\n",
            "  5.8613705e-06 5.1217532e-04 6.6475281e-05 1.8135812e-05 5.9113459e-05]]\n",
            "6\n",
            "bee\n"
          ]
        }
      ]
    },
    {
      "cell_type": "code",
      "source": [],
      "metadata": {
        "id": "jVUIEHFnpAX0"
      },
      "execution_count": null,
      "outputs": []
    }
  ]
}